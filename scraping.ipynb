{
 "cells": [
  {
   "cell_type": "code",
   "execution_count": 1,
   "metadata": {},
   "outputs": [
    {
     "name": "stdout",
     "output_type": "stream",
     "text": [
      "Defaulting to user installation because normal site-packages is not writeable\n",
      "Requirement already satisfied: requests in /Users/gokcesoylu/Library/Python/3.9/lib/python/site-packages (2.32.3)\n",
      "Requirement already satisfied: beautifulsoup4 in /Users/gokcesoylu/Library/Python/3.9/lib/python/site-packages (4.12.3)\n",
      "Requirement already satisfied: charset-normalizer<4,>=2 in /Users/gokcesoylu/Library/Python/3.9/lib/python/site-packages (from requests) (3.4.0)\n",
      "Requirement already satisfied: idna<4,>=2.5 in /Users/gokcesoylu/Library/Python/3.9/lib/python/site-packages (from requests) (3.10)\n",
      "Requirement already satisfied: urllib3<3,>=1.21.1 in /Users/gokcesoylu/Library/Python/3.9/lib/python/site-packages (from requests) (2.2.3)\n",
      "Requirement already satisfied: certifi>=2017.4.17 in /Users/gokcesoylu/Library/Python/3.9/lib/python/site-packages (from requests) (2024.8.30)\n",
      "Requirement already satisfied: soupsieve>1.2 in /Users/gokcesoylu/Library/Python/3.9/lib/python/site-packages (from beautifulsoup4) (2.6)\n",
      "\n",
      "\u001b[1m[\u001b[0m\u001b[34;49mnotice\u001b[0m\u001b[1;39;49m]\u001b[0m\u001b[39;49m A new release of pip is available: \u001b[0m\u001b[31;49m24.2\u001b[0m\u001b[39;49m -> \u001b[0m\u001b[32;49m24.3.1\u001b[0m\n",
      "\u001b[1m[\u001b[0m\u001b[34;49mnotice\u001b[0m\u001b[1;39;49m]\u001b[0m\u001b[39;49m To update, run: \u001b[0m\u001b[32;49m/Library/Developer/CommandLineTools/usr/bin/python3 -m pip install --upgrade pip\u001b[0m\n",
      "Note: you may need to restart the kernel to use updated packages.\n"
     ]
    }
   ],
   "source": [
    "pip install requests beautifulsoup4\n"
   ]
  },
  {
   "cell_type": "code",
   "execution_count": 2,
   "metadata": {},
   "outputs": [
    {
     "name": "stderr",
     "output_type": "stream",
     "text": [
      "/Users/gokcesoylu/Library/Python/3.9/lib/python/site-packages/urllib3/__init__.py:35: NotOpenSSLWarning: urllib3 v2 only supports OpenSSL 1.1.1+, currently the 'ssl' module is compiled with 'LibreSSL 2.8.3'. See: https://github.com/urllib3/urllib3/issues/3020\n",
      "  warnings.warn(\n"
     ]
    },
    {
     "name": "stdout",
     "output_type": "stream",
     "text": [
      "Fetching data for season: 2000-2001\n",
      "Fetching data for season: 2001-2002\n",
      "Fetching data for season: 2002-2003\n",
      "Fetching data for season: 2003-2004\n",
      "Fetching data for season: 2004-2005\n",
      "Fetching data for season: 2005-2006\n",
      "Fetching data for season: 2006-2007\n",
      "Fetching data for season: 2007-2008\n",
      "Fetching data for season: 2008-2009\n",
      "Fetching data for season: 2009-2010\n",
      "Fetching data for season: 2010-2011\n",
      "Fetching data for season: 2011-2012\n",
      "Fetching data for season: 2012-2013\n",
      "Failed to fetch data for 2012-2013. Status Code: 500\n",
      "Fetching data for season: 2013-2014\n",
      "Fetching data for season: 2014-2015\n",
      "Fetching data for season: 2015-2016\n",
      "Fetching data for season: 2016-2017\n",
      "Fetching data for season: 2017-2018\n",
      "Fetching data for season: 2018-2019\n",
      "Fetching data for season: 2019-2020\n",
      "Fetching data for season: 2020-2021\n",
      "Fetching data for season: 2021-2022\n",
      "Fetching data for season: 2022-2023\n",
      "Fetching data for season: 2023-2024\n",
      "Fetching data for season: 2024-2025\n",
      "Data has been saved to la_liga_results.csv.\n"
     ]
    }
   ],
   "source": [
    "import requests\n",
    "from bs4 import BeautifulSoup\n",
    "import csv\n",
    "\n",
    "# CSV dosyasına yazmak için hazırlık\n",
    "output_file = \"la_liga_results.csv\"\n",
    "headers = [\"Season\", \"Date\", \"Home Team\", \"Away Team\", \"Score\"]\n",
    "\n",
    "with open(output_file, mode=\"w\", newline=\"\", encoding=\"utf-8\") as file:\n",
    "    writer = csv.writer(file)\n",
    "    writer.writerow(headers)\n",
    "\n",
    "    # 2000-01 sezonundan 2024'e kadar olan veriler\n",
    "    for season in range(2000, 2025):\n",
    "        url = f\"https://www.skysports.com/la-liga-results/{season}-{str(season+1)[-2:]}\"\n",
    "        print(f\"Fetching data for season: {season}-{season+1}\")\n",
    "\n",
    "        response = requests.get(url)\n",
    "        if response.status_code != 200:\n",
    "            print(f\"Failed to fetch data for {season}-{season+1}. Status Code: {response.status_code}\")\n",
    "            continue\n",
    "\n",
    "        soup = BeautifulSoup(response.content, \"html.parser\")\n",
    "        \n",
    "        # Maç verilerini çekecek sınıfları bulmamız gerekiyor\n",
    "        match_blocks = soup.find_all(\"div\", class_=\"fixres__item\")  # Genellikle maç sonuçlarını içerir\n",
    "        \n",
    "        for match in match_blocks:\n",
    "            try:\n",
    "                date = match.find(\"span\", class_=\"matches__date\").text.strip()\n",
    "                teams = match.find_all(\"span\", class_=\"swap-text__target\")\n",
    "                home_team = teams[0].text.strip()\n",
    "                away_team = teams[1].text.strip()\n",
    "                score = match.find(\"span\", class_=\"matches__teamscores\").text.strip()\n",
    "                \n",
    "                # Veriyi CSV dosyasına yaz\n",
    "                writer.writerow([f\"{season}-{season+1}\", date, home_team, away_team, score])\n",
    "            except AttributeError:\n",
    "                # Beklenmedik bir format olduğunda atla\n",
    "                print(f\"Skipping a match due to missing data in {season}-{season+1}.\")\n",
    "                continue\n",
    "\n",
    "print(f\"Data has been saved to {output_file}.\")\n"
   ]
  }
 ],
 "metadata": {
  "kernelspec": {
   "display_name": "Python 3",
   "language": "python",
   "name": "python3"
  },
  "language_info": {
   "codemirror_mode": {
    "name": "ipython",
    "version": 3
   },
   "file_extension": ".py",
   "mimetype": "text/x-python",
   "name": "python",
   "nbconvert_exporter": "python",
   "pygments_lexer": "ipython3",
   "version": "3.9.6"
  }
 },
 "nbformat": 4,
 "nbformat_minor": 2
}
